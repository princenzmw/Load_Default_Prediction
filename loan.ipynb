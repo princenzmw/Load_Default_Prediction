{
 "cells": [
  {
   "cell_type": "code",
   "execution_count": null,
   "metadata": {
    "vscode": {
     "languageId": "plaintext"
    }
   },
   "outputs": [],
   "source": [
    "import pandas as pd\n",
    "\n",
    "# Load the dataset\n",
    "df = pd.read_csv(\"loaners.csv\")\n",
    "\n",
    "# Display the first few rows\n",
    "df.head()"
   ]
  },
  {
   "cell_type": "code",
   "execution_count": null,
   "metadata": {
    "vscode": {
     "languageId": "plaintext"
    }
   },
   "outputs": [],
   "source": [
    "# Check dataset information\n",
    "df.info()\n",
    "\n",
    "# Show basic statistics for numerical columns\n",
    "df.describe()"
   ]
  },
  {
   "cell_type": "code",
   "execution_count": null,
   "metadata": {},
   "outputs": [],
   "source": [
    "# Check for missing values\n",
    "missing_values = df.isnull().sum()\n",
    "missing_values[missing_values > 0]  # Show only columns with missing values"
   ]
  },
  {
   "cell_type": "code",
   "execution_count": null,
   "metadata": {},
   "outputs": [],
   "source": [
    "# Check for zero or negative values in key financial columns\n",
    "financial_cols = [\"Loan Amount\", \"Funded Amount\", \"Funded Amount Investor\", \n",
    "                  \"Total Received Interest\", \"Total Received Late Fee\", \n",
    "                  \"Recoveries\", \"Collection Recovery Fee\"]\n",
    "\n",
    "(df[financial_cols] <= 0).sum()"
   ]
  },
  {
   "cell_type": "code",
   "execution_count": null,
   "metadata": {},
   "outputs": [],
   "source": [
    "# Check unique values in some categorical columns\n",
    "categorical_cols = [\"Employment Duration\", \"Home Ownership\", \"Verification Status\", \n",
    "                    \"Loan Status\", \"Application Type\"]\n",
    "\n",
    "for col in categorical_cols:\n",
    "    print(f\"Unique values in {col}:\")\n",
    "    print(df[col].unique())\n",
    "    print(\"-\" * 40)"
   ]
  },
  {
   "cell_type": "code",
   "execution_count": null,
   "metadata": {},
   "outputs": [],
   "source": [
    "# Fix column mismatch by swapping values\n",
    "df[\"Fixed Home Ownership\"] = df[\"Employment Duration\"]\n",
    "df[\"Fixed Employment Duration\"] = df[\"Home Ownership\"]\n",
    "\n",
    "# Drop old incorrect columns and rename new ones\n",
    "df.drop(columns=[\"Employment Duration\", \"Home Ownership\"], inplace=True)\n",
    "df.rename(columns={\"Fixed Home Ownership\": \"Home Ownership\",\n",
    "                   \"Fixed Employment Duration\": \"Employment Duration\"}, inplace=True)\n",
    "\n",
    "# Check unique values again\n",
    "print(\"Unique values in Home Ownership (after fix):\", df[\"Home Ownership\"].unique())\n",
    "print(\"Unique values in Employment Duration (after fix):\", df[\"Employment Duration\"].unique())\n"
   ]
  },
  {
   "cell_type": "code",
   "execution_count": null,
   "metadata": {},
   "outputs": [],
   "source": [
    "# Check the first 20 unique values in Employment Duration\n",
    "df[\"Employment Duration\"].unique()[:20]"
   ]
  },
  {
   "cell_type": "code",
   "execution_count": null,
   "metadata": {},
   "outputs": [],
   "source": [
    "# Check unique values for all object (text) columns\n",
    "for col in df.select_dtypes(include=[\"object\"]).columns:\n",
    "    print(f\"Unique values in {col}:\")\n",
    "    print(df[col].unique()[:20])  # Show first 20 unique values\n",
    "    print(\"-\" * 40)\n"
   ]
  }
 ],
 "metadata": {
  "language_info": {
   "name": "python"
  }
 },
 "nbformat": 4,
 "nbformat_minor": 2
}
