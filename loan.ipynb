{
 "cells": [
  {
   "cell_type": "code",
   "execution_count": 1,
   "metadata": {},
   "outputs": [
    {
     "ename": "ModuleNotFoundError",
     "evalue": "No module named 'pandas'",
     "output_type": "error",
     "traceback": [
      "\u001b[1;31m---------------------------------------------------------------------------\u001b[0m",
      "\u001b[1;31mModuleNotFoundError\u001b[0m                       Traceback (most recent call last)",
      "Cell \u001b[1;32mIn[1], line 1\u001b[0m\n\u001b[1;32m----> 1\u001b[0m \u001b[38;5;28;01mimport\u001b[39;00m\u001b[38;5;250m \u001b[39m\u001b[38;5;21;01mpandas\u001b[39;00m\u001b[38;5;250m \u001b[39m\u001b[38;5;28;01mas\u001b[39;00m\u001b[38;5;250m \u001b[39m\u001b[38;5;21;01mpd\u001b[39;00m\n\u001b[0;32m      3\u001b[0m \u001b[38;5;66;03m# Load the dataset\u001b[39;00m\n\u001b[0;32m      4\u001b[0m df \u001b[38;5;241m=\u001b[39m pd\u001b[38;5;241m.\u001b[39mread_csv(\u001b[38;5;124m\"\u001b[39m\u001b[38;5;124mloaners.csv\u001b[39m\u001b[38;5;124m\"\u001b[39m)\n",
      "\u001b[1;31mModuleNotFoundError\u001b[0m: No module named 'pandas'"
     ]
    }
   ],
   "source": [
    "import pandas as pd\n",
    "\n",
    "# Load the dataset\n",
    "df = pd.read_csv(\"loaners.csv\")\n",
    "\n",
    "# Display the first few rows\n",
    "df.head()"
   ]
  },
  {
   "cell_type": "code",
   "execution_count": null,
   "metadata": {},
   "outputs": [],
   "source": [
    "# Check dataset information\n",
    "df.info()\n",
    "\n",
    "# Show basic statistics for numerical columns\n",
    "df.describe()"
   ]
  },
  {
   "cell_type": "code",
   "execution_count": null,
   "metadata": {},
   "outputs": [],
   "source": [
    "# Check for missing values\n",
    "missing_values = df.isnull().sum()\n",
    "missing_values[missing_values > 0]  # Show only columns with missing values"
   ]
  },
  {
   "cell_type": "code",
   "execution_count": null,
   "metadata": {},
   "outputs": [],
   "source": [
    "# Check for zero or negative values in key financial columns\n",
    "financial_cols = [\"Loan Amount\", \"Funded Amount\", \"Funded Amount Investor\", \n",
    "                  \"Total Received Interest\", \"Total Received Late Fee\", \n",
    "                  \"Recoveries\", \"Collection Recovery Fee\"]\n",
    "\n",
    "(df[financial_cols] <= 0).sum()"
   ]
  },
  {
   "cell_type": "code",
   "execution_count": null,
   "metadata": {},
   "outputs": [],
   "source": [
    "# Check unique values in some categorical columns\n",
    "categorical_cols = [\"Employment Duration\", \"Home Ownership\", \"Verification Status\", \n",
    "                    \"Loan Status\", \"Application Type\"]\n",
    "\n",
    "for col in categorical_cols:\n",
    "    print(f\"Unique values in {col}:\")\n",
    "    print(df[col].unique())\n",
    "    print(\"-\" * 40)"
   ]
  },
  {
   "cell_type": "code",
   "execution_count": null,
   "metadata": {},
   "outputs": [],
   "source": [
    "# Fix column mismatch by swapping values\n",
    "df[\"Fixed Home Ownership\"] = df[\"Employment Duration\"]\n",
    "df[\"Fixed Employment Duration\"] = df[\"Home Ownership\"]\n",
    "\n",
    "# Drop old incorrect columns and rename new ones\n",
    "df.drop(columns=[\"Employment Duration\", \"Home Ownership\"], inplace=True)\n",
    "df.rename(columns={\"Fixed Home Ownership\": \"Home Ownership\",\n",
    "                   \"Fixed Employment Duration\": \"Employment Duration\"}, inplace=True)\n",
    "\n",
    "# Check unique values again\n",
    "print(\"Unique values in Home Ownership (after fix):\", df[\"Home Ownership\"].unique())\n",
    "print(\"Unique values in Employment Duration (after fix):\", df[\"Employment Duration\"].unique())\n"
   ]
  },
  {
   "cell_type": "code",
   "execution_count": null,
   "metadata": {},
   "outputs": [],
   "source": [
    "# Check the first 20 unique values in Employment Duration\n",
    "df[\"Employment Duration\"].unique()[:20]"
   ]
  },
  {
   "cell_type": "code",
   "execution_count": null,
   "metadata": {},
   "outputs": [],
   "source": [
    "# Check unique values for all object (text) columns\n",
    "for col in df.select_dtypes(include=[\"object\"]).columns:\n",
    "    print(f\"Unique values in {col}:\")\n",
    "    print(df[col].unique()[:20])  # Show first 20 unique values\n",
    "    print(\"-\" * 40)\n"
   ]
  },
  {
   "cell_type": "code",
   "execution_count": null,
   "metadata": {},
   "outputs": [],
   "source": [
    "# rename it from \"Employment Duration\" to \"Annual Income\"\n",
    "df.rename(columns={\"Employment Duration\": \"Annual Income\"}, inplace=True)"
   ]
  },
  {
   "cell_type": "code",
   "execution_count": null,
   "metadata": {},
   "outputs": [],
   "source": [
    "import matplotlib.pyplot as plt\n",
    "import seaborn as sns\n",
    "\n",
    "# Set the figure size\n",
    "plt.figure(figsize=(8,5))\n",
    "\n",
    "# Create a histogram of Loan Amounts\n",
    "sns.histplot(df[\"Loan Amount\"], bins=30, kde=True, color=\"blue\")\n",
    "\n",
    "# Add labels and title\n",
    "plt.xlabel(\"Loan Amount ($)\")\n",
    "plt.ylabel(\"Number of Loans\")\n",
    "plt.title(\"Distribution of Loan Amounts\")\n",
    "\n",
    "plt.show()"
   ]
  },
  {
   "cell_type": "code",
   "execution_count": null,
   "metadata": {},
   "outputs": [],
   "source": [
    "# Fixing the warning\n",
    "plt.figure(figsize=(6,4))\n",
    "sns.countplot(x=\"Loan Status\", data=df, hue=\"Loan Status\", palette=\"Set2\", legend=False)\n",
    "\n",
    "# Add labels\n",
    "plt.xlabel(\"Loan Status (0 = Fully Paid, 1 = Defaulted)\")\n",
    "plt.ylabel(\"Count\")\n",
    "plt.title(\"Loan Status Distribution\")\n",
    "\n",
    "plt.show()"
   ]
  },
  {
   "cell_type": "code",
   "execution_count": null,
   "metadata": {},
   "outputs": [],
   "source": [
    "plt.figure(figsize=(8,5))\n",
    "sns.boxplot(x=\"Loan Status\", y=\"Loan Amount\", data=df, hue=\"Loan Status\", palette=\"coolwarm\", legend=False)\n",
    "\n",
    "# Add labels\n",
    "plt.xlabel(\"Loan Status (0 = Fully Paid, 1 = Defaulted)\")\n",
    "plt.ylabel(\"Loan Amount ($)\")\n",
    "plt.title(\"Loan Amounts by Loan Status\")\n",
    "\n",
    "plt.show()\n"
   ]
  },
  {
   "cell_type": "code",
   "execution_count": null,
   "metadata": {},
   "outputs": [],
   "source": [
    "plt.figure(figsize=(8,5))\n",
    "sns.boxplot(x=\"Loan Status\", y=\"Debit to Income\", data=df, palette=\"coolwarm\", hue=\"Loan Status\", legend=False)\n",
    "\n",
    "# Add labels\n",
    "plt.xlabel(\"Loan Status (0 = Fully Paid, 1 = Defaulted)\")\n",
    "plt.ylabel(\"Debt-to-Income Ratio\")\n",
    "plt.title(\"Debt-to-Income Ratio by Loan Status\")\n",
    "\n",
    "plt.show()"
   ]
  }
 ],
 "metadata": {
  "kernelspec": {
   "display_name": "Python 3",
   "language": "python",
   "name": "python3"
  },
  "language_info": {
   "codemirror_mode": {
    "name": "ipython",
    "version": 3
   },
   "file_extension": ".py",
   "mimetype": "text/x-python",
   "name": "python",
   "nbconvert_exporter": "python",
   "pygments_lexer": "ipython3",
   "version": "3.13.2"
  }
 },
 "nbformat": 4,
 "nbformat_minor": 2
}
